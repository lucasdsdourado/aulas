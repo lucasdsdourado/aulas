{
 "cells": [
  {
   "cell_type": "markdown",
   "metadata": {},
   "source": [
    "### 14. Classes e Funções"
   ]
  },
  {
   "cell_type": "code",
   "execution_count": 12,
   "metadata": {},
   "outputs": [],
   "source": [
    "class Retangulo:\n",
    "    \"\"\"Calcula um retangulo\"\"\""
   ]
  },
  {
   "cell_type": "code",
   "execution_count": null,
   "metadata": {},
   "outputs": [],
   "source": [
    "# instancia da classe (objeto)\n",
    "priRetangulo = Retangulo()"
   ]
  },
  {
   "cell_type": "code",
   "execution_count": null,
   "metadata": {},
   "outputs": [],
   "source": [
    "# atributos da classe\n",
    "priRetangulo.largura = 5\n",
    "priRetangulo.altura = 3"
   ]
  },
  {
   "cell_type": "code",
   "execution_count": 19,
   "metadata": {},
   "outputs": [],
   "source": [
    "def calcular_area(largura, altura):\n",
    "    return largura * altura\n",
    "\n",
    "def calcular_perimetro(largura, altura):\n",
    "    return 2 * (largura + altura)\n"
   ]
  },
  {
   "cell_type": "code",
   "execution_count": 21,
   "metadata": {},
   "outputs": [
    {
     "name": "stdout",
     "output_type": "stream",
     "text": [
      "Area: 15 Perimetro: 16\n"
     ]
    }
   ],
   "source": [
    "area = calcular_area(priRetangulo.largura, priRetangulo.altura)\n",
    "perimetro = calcular_perimetro(priRetangulo.largura, priRetangulo.altura)\n",
    "\n",
    "print(f'Area: {area} Perimetro: {perimetro}')"
   ]
  },
  {
   "cell_type": "markdown",
   "metadata": {},
   "source": [
    "### 15. Classes e Métodos"
   ]
  },
  {
   "cell_type": "code",
   "execution_count": 22,
   "metadata": {},
   "outputs": [],
   "source": [
    "class Retangulo:\n",
    "    def calcular_area(largura, altura):\n",
    "        return largura * altura\n",
    "\n",
    "    def calcular_perimetro(largura, altura):\n",
    "        return 2 * (largura + altura)\n"
   ]
  },
  {
   "cell_type": "code",
   "execution_count": 23,
   "metadata": {},
   "outputs": [],
   "source": [
    "# instancia da classe (objeto)\n",
    "priRetangulo = Retangulo()"
   ]
  },
  {
   "cell_type": "code",
   "execution_count": 24,
   "metadata": {},
   "outputs": [
    {
     "name": "stdout",
     "output_type": "stream",
     "text": [
      "Area: 15 Perimetro: 16\n"
     ]
    }
   ],
   "source": [
    "priRetangulo.largura = 5\n",
    "priRetangulo.altura = 3\n",
    "\n",
    "area = Retangulo.calcular_area(priRetangulo.largura, priRetangulo.altura)\n",
    "perimetro = Retangulo.calcular_perimetro(priRetangulo.largura, priRetangulo.altura)\n",
    "\n",
    "print(f'Area: {area} Perimetro: {perimetro}')"
   ]
  },
  {
   "cell_type": "markdown",
   "metadata": {},
   "source": [
    "### 16. Classes e Objetos"
   ]
  },
  {
   "cell_type": "code",
   "execution_count": 2,
   "metadata": {},
   "outputs": [],
   "source": [
    "# self significa o próprio objeto em questão, referência especifica da instancia\n",
    "class Retangulo:\n",
    "    # método construtor\n",
    "    def __init__(self,largura,altura):\n",
    "        self.largura = largura\n",
    "        self.altura = altura\n",
    "\n",
    "    def calcular_area(self):\n",
    "        return self.largura * self.altura\n",
    "\n",
    "    def calcular_perimetro(self):\n",
    "        return 2 * (self.largura + self.altura)\n"
   ]
  },
  {
   "cell_type": "code",
   "execution_count": 26,
   "metadata": {},
   "outputs": [],
   "source": [
    "# instancia da classe (objeto)\n",
    "priRetangulo = Retangulo(5,3)"
   ]
  },
  {
   "cell_type": "code",
   "execution_count": 29,
   "metadata": {},
   "outputs": [
    {
     "name": "stdout",
     "output_type": "stream",
     "text": [
      "15 16\n"
     ]
    }
   ],
   "source": [
    "area = priRetangulo.calcular_area()\n",
    "perimetro = priRetangulo.calcular_perimetro()\n",
    "\n",
    "print(area, perimetro)"
   ]
  },
  {
   "cell_type": "markdown",
   "metadata": {},
   "source": [
    "### 17. Herança"
   ]
  },
  {
   "cell_type": "code",
   "execution_count": 3,
   "metadata": {},
   "outputs": [],
   "source": [
    "# Classe Quadrado que herda de Retangulo\n",
    "class Quadrado(Retangulo):\n",
    "    def __init__(self, lado):\n",
    "        super().__init__(lado, lado)\n",
    "        # super chama o metodo da classe pai que ele herdou\n",
    "        # nesse caso, está chamado o init da classe retangulo\n",
    "        # que é o metodo construtor\n",
    "        # parametros largura e altura estão sendo o próprio lado do quadrado"
   ]
  },
  {
   "cell_type": "code",
   "execution_count": 4,
   "metadata": {},
   "outputs": [],
   "source": [
    "# instanciando a classe, criando o objeto\n",
    "quadrado = Quadrado(4)"
   ]
  },
  {
   "cell_type": "code",
   "execution_count": 5,
   "metadata": {},
   "outputs": [
    {
     "name": "stdout",
     "output_type": "stream",
     "text": [
      "Quadrado - Área: 16, Perímetro: 16\n"
     ]
    }
   ],
   "source": [
    "areaQuad = quadrado.calcular_area()\n",
    "perimetroQuad = quadrado.calcular_perimetro()\n",
    "\n",
    "print(f\"Quadrado - Área: {areaQuad}, Perímetro: {perimetroQuad}\")"
   ]
  }
 ],
 "metadata": {
  "kernelspec": {
   "display_name": "Python 3",
   "language": "python",
   "name": "python3"
  },
  "language_info": {
   "codemirror_mode": {
    "name": "ipython",
    "version": 3
   },
   "file_extension": ".py",
   "mimetype": "text/x-python",
   "name": "python",
   "nbconvert_exporter": "python",
   "pygments_lexer": "ipython3",
   "version": "3.12.7"
  }
 },
 "nbformat": 4,
 "nbformat_minor": 2
}
